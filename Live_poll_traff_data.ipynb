{
 "cells": [
  {
   "cell_type": "markdown",
   "metadata": {},
   "source": [
    "# Live pollution data"
   ]
  },
  {
   "cell_type": "code",
   "execution_count": 1,
   "metadata": {},
   "outputs": [],
   "source": [
    "import pandas as pd\n",
    "import requests\n",
    "import json\n",
    "import getpass"
   ]
  },
  {
   "cell_type": "code",
   "execution_count": 2,
   "metadata": {},
   "outputs": [
    {
     "name": "stdout",
     "output_type": "stream",
     "text": [
      "········\n"
     ]
    }
   ],
   "source": [
    "key=getpass.getpass()"
   ]
  },
  {
   "cell_type": "code",
   "execution_count": 3,
   "metadata": {},
   "outputs": [
    {
     "name": "stdout",
     "output_type": "stream",
     "text": [
      "········\n"
     ]
    }
   ],
   "source": [
    "token=getpass.getpass()\n"
   ]
  },
  {
   "cell_type": "code",
   "execution_count": 4,
   "metadata": {},
   "outputs": [],
   "source": [
    "def live_pollution(token,city):\n",
    "    base=f\"https://api.waqi.info/feed/{city}/?token={token}\"\n",
    "    response=requests.get(base)\n",
    "    dicti=response.json()\n",
    "    real_time=pd.DataFrame(dicti[\"data\"][\"iaqi\"])\n",
    "    col_to_keep=[\"co\",\"no2\",\"o3\",\"pm10\",\"pm25\",\"so2\",\"t\"]\n",
    "    col_to_drop=[col for col in real_time.columns if col not in col_to_keep]\n",
    "    real_time.drop(col_to_drop,inplace=True,axis=1)\n",
    "    real_time.reset_index(drop=True,inplace=True)\n",
    "    real_time=real_time.assign(city=city)\n",
    "    return real_time"
   ]
  },
  {
   "cell_type": "code",
   "execution_count": 5,
   "metadata": {},
   "outputs": [],
   "source": [
    "def coordinates(city):\n",
    "    link=f\"https://nominatim.openstreetmap.org/search/{city}?format=json&limit=1&polygon_svg=1\"\n",
    "    response3=requests.get(link)\n",
    "    dicti3=response3.json()\n",
    "    lat=dicti3[0][\"lat\"]\n",
    "    lon=dicti3[0][\"lon\"]\n",
    "    coordinates=lat+\",\"+lon\n",
    "    return coordinates"
   ]
  },
  {
   "cell_type": "code",
   "execution_count": 6,
   "metadata": {},
   "outputs": [],
   "source": [
    "def live_traffic(key,city):\n",
    "    coors=coordinates(city)\n",
    "    url=f\"https://api.tomtom.com/traffic/services/4/flowSegmentData/absolute/10/json?point={coors}&unit=KMPH&key={key}\"\n",
    "    response2=requests.get(url)\n",
    "    dicti2=response2.json()\n",
    "    real_traffic=pd.DataFrame(dicti2[\"flowSegmentData\"])\n",
    "    col_to_keep2=[\"currentSpeed\",\"freeFlowSpeed\",\"currentTravelTime\",\"freeFlowTravelTime\"]\n",
    "    col_to_drop2=[col for col in real_traffic.columns if col not in col_to_keep2]\n",
    "    real_traffic.drop(col_to_drop2,inplace=True,axis=1)\n",
    "    real_traffic.reset_index(drop=True,inplace=True)\n",
    "    real_traffic=real_traffic.assign(city=city)\n",
    "    return real_traffic"
   ]
  },
  {
   "cell_type": "code",
   "execution_count": 7,
   "metadata": {},
   "outputs": [],
   "source": [
    "def live_info(city):\n",
    "    try:\n",
    "        pol=live_pollution(token,city)\n",
    "        traf=live_traffic(key,city)\n",
    "        def_df=pol.merge(traf, left_on='city',right_on='city')\n",
    "\n",
    "\n",
    "        def_df[\"currentSpeed\"]=float(def_df[\"currentSpeed\"]/2.237)\n",
    "        def_df[\"freeFlowSpeed\"]=float(def_df[\"freeFlowSpeed\"]/2.237)\n",
    "        def_df.rename(columns={\"currentSpeed\": \"currentSpeed (m/s)\", \"freeFlowSpeed\": \"freeFlowSpeed (m/s)\",\"currentTravelTime\":\"currentTravelTime (s)\",\"freeFlowTravelTime\":\"freeFlowTravelTime (s)\"},inplace=True)\n",
    "\n",
    "        def_df=def_df.assign(currentFlowDistance_km=def_df[\"currentSpeed (m/s)\"]*def_df[\"currentTravelTime (s)\"]/1000)\n",
    "        def_df=def_df.assign(freeFlowDistance_km=def_df[\"freeFlowSpeed (m/s)\"]*def_df[\"freeFlowTravelTime (s)\"]/1000)\n",
    "\n",
    "        def_df.set_index(\"city\",inplace=True)\n",
    "        return def_df\n",
    "    except:\n",
    "        return print(\"Sorry, that city is not in our database, please try again\")"
   ]
  },
  {
   "cell_type": "code",
   "execution_count": null,
   "metadata": {},
   "outputs": [],
   "source": []
  },
  {
   "cell_type": "code",
   "execution_count": null,
   "metadata": {},
   "outputs": [],
   "source": []
  },
  {
   "cell_type": "code",
   "execution_count": null,
   "metadata": {},
   "outputs": [],
   "source": []
  },
  {
   "cell_type": "markdown",
   "metadata": {},
   "source": [
    "# LET's check how is the air quality and the traffic doing"
   ]
  },
  {
   "cell_type": "code",
   "execution_count": null,
   "metadata": {},
   "outputs": [],
   "source": []
  },
  {
   "cell_type": "markdown",
   "metadata": {},
   "source": [
    "## Give me a city!"
   ]
  },
  {
   "cell_type": "code",
   "execution_count": null,
   "metadata": {},
   "outputs": [],
   "source": []
  },
  {
   "cell_type": "code",
   "execution_count": 17,
   "metadata": {},
   "outputs": [
    {
     "data": {
      "text/html": [
       "<div>\n",
       "<style scoped>\n",
       "    .dataframe tbody tr th:only-of-type {\n",
       "        vertical-align: middle;\n",
       "    }\n",
       "\n",
       "    .dataframe tbody tr th {\n",
       "        vertical-align: top;\n",
       "    }\n",
       "\n",
       "    .dataframe thead th {\n",
       "        text-align: right;\n",
       "    }\n",
       "</style>\n",
       "<table border=\"1\" class=\"dataframe\">\n",
       "  <thead>\n",
       "    <tr style=\"text-align: right;\">\n",
       "      <th></th>\n",
       "      <th>co</th>\n",
       "      <th>no2</th>\n",
       "      <th>o3</th>\n",
       "      <th>pm10</th>\n",
       "      <th>pm25</th>\n",
       "      <th>so2</th>\n",
       "      <th>t</th>\n",
       "      <th>currentSpeed (m/s)</th>\n",
       "      <th>freeFlowSpeed (m/s)</th>\n",
       "      <th>currentTravelTime (s)</th>\n",
       "      <th>freeFlowTravelTime (s)</th>\n",
       "      <th>currentFlowDistance_km</th>\n",
       "      <th>freeFlowDistance_km</th>\n",
       "    </tr>\n",
       "    <tr>\n",
       "      <th>city</th>\n",
       "      <th></th>\n",
       "      <th></th>\n",
       "      <th></th>\n",
       "      <th></th>\n",
       "      <th></th>\n",
       "      <th></th>\n",
       "      <th></th>\n",
       "      <th></th>\n",
       "      <th></th>\n",
       "      <th></th>\n",
       "      <th></th>\n",
       "      <th></th>\n",
       "      <th></th>\n",
       "    </tr>\n",
       "  </thead>\n",
       "  <tbody>\n",
       "    <tr>\n",
       "      <td>bogota</td>\n",
       "      <td>22.6</td>\n",
       "      <td>22.1</td>\n",
       "      <td>3.7</td>\n",
       "      <td>49</td>\n",
       "      <td>87</td>\n",
       "      <td>3.7</td>\n",
       "      <td>12.6</td>\n",
       "      <td>8.493518</td>\n",
       "      <td>11.622709</td>\n",
       "      <td>294</td>\n",
       "      <td>215</td>\n",
       "      <td>2.497094</td>\n",
       "      <td>2.498882</td>\n",
       "    </tr>\n",
       "  </tbody>\n",
       "</table>\n",
       "</div>"
      ],
      "text/plain": [
       "          co   no2   o3  pm10  pm25  so2     t  currentSpeed (m/s)  \\\n",
       "city                                                                 \n",
       "bogota  22.6  22.1  3.7    49    87  3.7  12.6            8.493518   \n",
       "\n",
       "        freeFlowSpeed (m/s)  currentTravelTime (s)  freeFlowTravelTime (s)  \\\n",
       "city                                                                         \n",
       "bogota            11.622709                    294                     215   \n",
       "\n",
       "        currentFlowDistance_km  freeFlowDistance_km  \n",
       "city                                                 \n",
       "bogota                2.497094             2.498882  "
      ]
     },
     "execution_count": 17,
     "metadata": {},
     "output_type": "execute_result"
    }
   ],
   "source": [
    "live_info(\"bogota\")"
   ]
  },
  {
   "cell_type": "code",
   "execution_count": null,
   "metadata": {},
   "outputs": [],
   "source": []
  }
 ],
 "metadata": {
  "kernelspec": {
   "display_name": "Python 3",
   "language": "python",
   "name": "python3"
  },
  "language_info": {
   "codemirror_mode": {
    "name": "ipython",
    "version": 3
   },
   "file_extension": ".py",
   "mimetype": "text/x-python",
   "name": "python",
   "nbconvert_exporter": "python",
   "pygments_lexer": "ipython3",
   "version": "3.7.4"
  }
 },
 "nbformat": 4,
 "nbformat_minor": 2
}
