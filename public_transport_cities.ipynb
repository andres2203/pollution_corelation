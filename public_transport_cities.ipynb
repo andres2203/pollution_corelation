{
 "cells": [
  {
   "cell_type": "code",
   "execution_count": 2,
   "metadata": {},
   "outputs": [],
   "source": [
    "import pandas as pd\n",
    "import requests\n",
    "import json\n",
    "from bs4 import BeautifulSoup\n",
    "import re"
   ]
  },
  {
   "cell_type": "markdown",
   "metadata": {},
   "source": [
    "# Berlin"
   ]
  },
  {
   "cell_type": "code",
   "execution_count": 3,
   "metadata": {},
   "outputs": [],
   "source": [
    "# Get Berlin Metro size\n",
    "url = \"https://en.wikipedia.org/wiki/Berlin#cite_note-145\"\n",
    "response = requests.get(url)\n",
    "soup = BeautifulSoup(response.content, \"html.parser\")\n",
    "res = soup.find(\"div\", class_=\"mw-parser-output\").findAll(\"table\", class_=\"wikitable\")[4]"
   ]
  },
  {
   "cell_type": "code",
   "execution_count": 4,
   "metadata": {},
   "outputs": [],
   "source": [
    "res = soup.find(\"div\", class_=\"mw-parser-output\").findAll(\"table\", class_=\"wikitable\")[4]#.findAll(\"td\")"
   ]
  },
  {
   "cell_type": "code",
   "execution_count": 288,
   "metadata": {},
   "outputs": [],
   "source": [
    "# Re text and values\n",
    "text = str(res)\n",
    "nr_pattern = \"(\\d?,?\\d{1,})\\\\xa0km\"\n",
    "txt_pattern = \"\\>(\\w+(\\s|\\W)?\\w+)\\</a>\"\n",
    "ber_bahn_val = re.findall(nr_pattern, text)\n",
    "ber_bahn_txt = re.findall(txt_pattern, text)\n",
    "a,b = map(list, zip(*ber_bahn_txt))\n",
    "val_tram = [\"S-Bahn\", \"U-Bahn\", \"Tram\", \"Bus\"]\n",
    "val_res = []\n",
    "for i in a:\n",
    "    if i in val_tram:\n",
    "        val_res.append(i)"
   ]
  },
  {
   "cell_type": "code",
   "execution_count": 291,
   "metadata": {},
   "outputs": [],
   "source": [
    "ber_bahn_val[0] = float(str(ber_bahn_val[0]).replace(\",\",\"\"))\n",
    "ber_bahn_val[1] = float(str(ber_bahn_val[1]))\n",
    "ber_bahn_val[2] = float(str(ber_bahn_val[2]))\n",
    "ber_bahn_val[3] = float(str(ber_bahn_val[3]).replace(\",\",\"\"))"
   ]
  },
  {
   "cell_type": "code",
   "execution_count": 292,
   "metadata": {},
   "outputs": [
    {
     "data": {
      "text/plain": [
       "{('Bus', 1675.0), ('S-Bahn', 331.0), ('Tram', 194.0), ('U-Bahn', 146.0)}"
      ]
     },
     "execution_count": 292,
     "metadata": {},
     "output_type": "execute_result"
    }
   ],
   "source": [
    "berl_values = set(zip(val_res, list(ber_bahn_val)))\n",
    "berl_values"
   ]
  },
  {
   "cell_type": "markdown",
   "metadata": {},
   "source": [
    "# Madrid"
   ]
  },
  {
   "cell_type": "code",
   "execution_count": 120,
   "metadata": {},
   "outputs": [],
   "source": [
    "# Bus\n",
    "url = \"https://www.crtm.es/tu-transporte-publico/autobuses-emt\"\n",
    "response = requests.get(url)\n",
    "soup = BeautifulSoup(response.content, \"html.parser\")\n",
    "result = soup.findAll(\"div\", class_=\"detalle1\")"
   ]
  },
  {
   "cell_type": "code",
   "execution_count": 192,
   "metadata": {
    "scrolled": true
   },
   "outputs": [
    {
     "data": {
      "text/plain": [
       "35.4"
      ]
     },
     "execution_count": 192,
     "metadata": {},
     "output_type": "execute_result"
    }
   ],
   "source": [
    "text_mad = str(result)\n",
    "mad_pattern = \"\\s+(\\d+.\\d+)\\s+\"\n",
    "mad_val_bus = re.findall(mad_pattern, text_mad)[1]\n",
    "mad_val_bus=float(mad_val_bus.replace(\",\",\"\"))/10\n",
    "mad_val_bus"
   ]
  },
  {
   "cell_type": "code",
   "execution_count": 130,
   "metadata": {
    "scrolled": true
   },
   "outputs": [],
   "source": [
    "# S-Bahn\n",
    "url = \"https://www.crtm.es/tu-transporte-publico/metro-ligero.aspx\"\n",
    "response = requests.get(url)\n",
    "soup = BeautifulSoup(response.content, \"html.parser\")\n",
    "result = soup.findAll(\"div\", class_=\"detalle1\")"
   ]
  },
  {
   "cell_type": "code",
   "execution_count": 132,
   "metadata": {
    "scrolled": true
   },
   "outputs": [
    {
     "data": {
      "text/plain": [
       "'35,4'"
      ]
     },
     "execution_count": 132,
     "metadata": {},
     "output_type": "execute_result"
    }
   ],
   "source": [
    "text_mad = str(result)\n",
    "mad_pattern = \"\\s(\\d+.\\d+)\\s\"\n",
    "mad_val_s = re.findall(mad_pattern, text_mad)[0]\n",
    "mad_val_s"
   ]
  },
  {
   "cell_type": "code",
   "execution_count": 133,
   "metadata": {},
   "outputs": [],
   "source": [
    "# Metro\n",
    "url_3 = \"https://en.wikipedia.org/wiki/Madrid\"\n",
    "response_3 = requests.get(url_3)\n",
    "soup_3 = BeautifulSoup(response_3.content, \"html.parser\")\n",
    "result_3 = soup_3.find(\"div\", class_=\"mw-parser-output\").findAll(\"p\") #cite_ref-transport_170-0"
   ]
  },
  {
   "cell_type": "code",
   "execution_count": 190,
   "metadata": {},
   "outputs": [
    {
     "data": {
      "text/plain": [
       "294.0"
      ]
     },
     "execution_count": 190,
     "metadata": {},
     "output_type": "execute_result"
    }
   ],
   "source": [
    "text_mad_3 = str(result_3)\n",
    "mad_pattern = \"at\\s(\\d+.\\d+)\\s\" #\"(\\w)\\s\\k\\i\"\n",
    "mad_val_metro = re.findall(mad_pattern, text_mad_3)[2]\n",
    "mad_val_metro = float(mad_val_metro)\n",
    "mad_val_metro = float(mad_val_metro)\n",
    "mad_val_metro"
   ]
  },
  {
   "cell_type": "code",
   "execution_count": 165,
   "metadata": {},
   "outputs": [],
   "source": [
    "# metro cercanieas\n",
    "url_4 = \"https://en.wikipedia.org/wiki/Madrid\"\n",
    "response_4 = requests.get(url_4)\n",
    "soup_4 = BeautifulSoup(response_4.content, \"html.parser\")\n",
    "result_4 = soup_4.find(\"div\", class_=\"mw-parser-output\").findAll(\"p\") #cite_ref-transport_170-0"
   ]
  },
  {
   "cell_type": "code",
   "execution_count": 166,
   "metadata": {},
   "outputs": [
    {
     "data": {
      "text/plain": [
       "'3.3'"
      ]
     },
     "execution_count": 166,
     "metadata": {},
     "output_type": "execute_result"
    }
   ],
   "source": [
    "text_mad = str(result_4)\n",
    "mad_pattern = \"\\s+(\\d+.\\d+)\\s\"\n",
    "mad_val_cercanias = re.findall(mad_pattern, text_mad)[0]\n",
    "mad_val_cercanias"
   ]
  },
  {
   "cell_type": "code",
   "execution_count": 188,
   "metadata": {},
   "outputs": [
    {
     "data": {
      "text/plain": [
       "613.4"
      ]
     },
     "execution_count": 188,
     "metadata": {},
     "output_type": "execute_result"
    }
   ],
   "source": [
    "# cercanias + S-Bahn \n",
    "mad_val_s2=mad_val_s\n",
    "mad_val_sf=float(mad_val_s2.replace(\",\",\"\"))/10\n",
    "mad__val_SC = mad_val_sf + mad_val_S\n",
    "mad__val_SC"
   ]
  },
  {
   "cell_type": "markdown",
   "metadata": {},
   "source": [
    "# Hong Kong"
   ]
  },
  {
   "cell_type": "code",
   "execution_count": 366,
   "metadata": {},
   "outputs": [
    {
     "data": {
      "text/plain": [
       "1756.0"
      ]
     },
     "execution_count": 366,
     "metadata": {},
     "output_type": "execute_result"
    }
   ],
   "source": [
    "df_hk = pd.DataFrame([[70.4, \"sum\"],[1685.6, \"Bus\"]], columns=[\"hk_km\", \"transport\"])\n",
    "df_hk = df_hk.sum()[0]\n",
    "df_hk"
   ]
  },
  {
   "cell_type": "markdown",
   "metadata": {},
   "source": [
    "# Sum df"
   ]
  },
  {
   "cell_type": "code",
   "execution_count": 363,
   "metadata": {},
   "outputs": [
    {
     "data": {
      "text/plain": [
       "942.8"
      ]
     },
     "execution_count": 363,
     "metadata": {},
     "output_type": "execute_result"
    }
   ],
   "source": [
    "df_mad = pd.DataFrame([mad_val_bus, mad__val_SC, mad_val_metro], columns=[\"mad_km\"])\n",
    "df_mad[\"transport\"] = [\"Bus\", \"S-Bahn\", \"Metro\"]\n",
    "df_mad = df_mad.sum()[0]\n",
    "df_mad"
   ]
  },
  {
   "cell_type": "code",
   "execution_count": 364,
   "metadata": {},
   "outputs": [
    {
     "data": {
      "text/plain": [
       "2346.0"
      ]
     },
     "execution_count": 364,
     "metadata": {},
     "output_type": "execute_result"
    }
   ],
   "source": [
    "df_ber = pd.DataFrame(berl_values, columns=[\"transport\", \"ber_km\"])\n",
    "df_ber = df_ber.sum()[1]\n",
    "df_ber"
   ]
  },
  {
   "cell_type": "code",
   "execution_count": 368,
   "metadata": {},
   "outputs": [
    {
     "data": {
      "text/html": [
       "<div>\n",
       "<style scoped>\n",
       "    .dataframe tbody tr th:only-of-type {\n",
       "        vertical-align: middle;\n",
       "    }\n",
       "\n",
       "    .dataframe tbody tr th {\n",
       "        vertical-align: top;\n",
       "    }\n",
       "\n",
       "    .dataframe thead th {\n",
       "        text-align: right;\n",
       "    }\n",
       "</style>\n",
       "<table border=\"1\" class=\"dataframe\">\n",
       "  <thead>\n",
       "    <tr style=\"text-align: right;\">\n",
       "      <th></th>\n",
       "      <th>city</th>\n",
       "      <th>len_pt</th>\n",
       "    </tr>\n",
       "  </thead>\n",
       "  <tbody>\n",
       "    <tr>\n",
       "      <td>0</td>\n",
       "      <td>hong kong</td>\n",
       "      <td>1756.0</td>\n",
       "    </tr>\n",
       "    <tr>\n",
       "      <td>1</td>\n",
       "      <td>madrid</td>\n",
       "      <td>942.8</td>\n",
       "    </tr>\n",
       "    <tr>\n",
       "      <td>2</td>\n",
       "      <td>berlin</td>\n",
       "      <td>2346.0</td>\n",
       "    </tr>\n",
       "  </tbody>\n",
       "</table>\n",
       "</div>"
      ],
      "text/plain": [
       "        city  len_pt\n",
       "0  hong kong  1756.0\n",
       "1     madrid   942.8\n",
       "2     berlin  2346.0"
      ]
     },
     "execution_count": 368,
     "metadata": {},
     "output_type": "execute_result"
    }
   ],
   "source": [
    "trans_km = {'city':['hong kong','madrid','berlin'],\n",
    "             'len_pt':[df_hk,df_mad,df_ber]}\n",
    "trans_km = pd.DataFrame(trans_km)\n",
    "trans_km\n"
   ]
  },
  {
   "cell_type": "code",
   "execution_count": 370,
   "metadata": {},
   "outputs": [],
   "source": [
    "trans_km.to_pickle(\"transport_km.pickles\")"
   ]
  }
 ],
 "metadata": {
  "kernelspec": {
   "display_name": "Python 3",
   "language": "python",
   "name": "python3"
  },
  "language_info": {
   "codemirror_mode": {
    "name": "ipython",
    "version": 3
   },
   "file_extension": ".py",
   "mimetype": "text/x-python",
   "name": "python",
   "nbconvert_exporter": "python",
   "pygments_lexer": "ipython3",
   "version": "3.7.4"
  }
 },
 "nbformat": 4,
 "nbformat_minor": 2
}
